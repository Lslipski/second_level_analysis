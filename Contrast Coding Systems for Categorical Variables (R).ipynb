{
 "cells": [
  {
   "cell_type": "markdown",
   "metadata": {},
   "source": [
    "#### https://stats.idre.ucla.edu/r/library/r-library-contrast-coding-systems-for-categorical-variables/\n",
    "#### and https://leanpub.com/principlesoffmri\n",
    "#### and https://stats.idre.ucla.edu/spss/faq/coding-systems-for-categorical-variables-in-regression-analysis-2/"
   ]
  },
  {
   "cell_type": "markdown",
   "metadata": {},
   "source": [
    "## Contrasts"
   ]
  },
  {
   "cell_type": "markdown",
   "metadata": {},
   "source": [
    "How can we estimate the signal magnitudes in response to a single condition, as an average over multiple conditions, or as a difference in magnitude across conditions?\n",
    "\n",
    "Within the GLM framework using contrasts, or linear combinations of the $\\beta$ values,\n",
    "we can easily handle all these questions. For example, consider that we have two conditions, A and B,\n",
    "which reflect periods of auditory and visual stimulation, respectively. The contrast [A - B] estimates\n",
    "the activation difference for auditory - visual stimulation, which we can test by applying a linear\n",
    "contrast vector c (i.e. calculating c\n",
    "T β where c\n",
    "T = [1 − 1]).\n",
    "\n",
    "c is a contrast matrix with a row for each parameter or linear combination of parameters (e.g. a set of nuisance covariates)"
   ]
  },
  {
   "cell_type": "markdown",
   "metadata": {},
   "source": [
    "##### Rules of Thumb"
   ]
  },
  {
   "cell_type": "markdown",
   "metadata": {},
   "source": [
    "<ol>\n",
    "    <li> If you test a difference between conditions, then contrast weights should always sum to zero. However,  if you test the average of one or more conditions against the implicit baseline, this need not hold\n",
    "    <li> While scaling of weights affects magnitude (e.g. [1 -1] vs. [.5 -.5]), it does not influence inference (p-values, t-tests)\n",
    "</ol>"
   ]
  },
  {
   "cell_type": "code",
   "execution_count": null,
   "metadata": {},
   "outputs": [],
   "source": []
  },
  {
   "cell_type": "markdown",
   "metadata": {},
   "source": [
    "## Loading Example Data for Race (4 levels)"
   ]
  },
  {
   "cell_type": "code",
   "execution_count": 5,
   "metadata": {},
   "outputs": [],
   "source": [
    "hsb2 = read.table('https://stats.idre.ucla.edu/stat/data/hsb2.csv', header=T, sep=\",\")"
   ]
  },
  {
   "cell_type": "code",
   "execution_count": 6,
   "metadata": {
    "collapsed": true
   },
   "outputs": [
    {
     "data": {
      "text/html": [
       "<table>\n",
       "<thead><tr><th scope=col>id</th><th scope=col>female</th><th scope=col>race</th><th scope=col>ses</th><th scope=col>schtyp</th><th scope=col>prog</th><th scope=col>read</th><th scope=col>write</th><th scope=col>math</th><th scope=col>science</th><th scope=col>socst</th></tr></thead>\n",
       "<tbody>\n",
       "\t<tr><td> 70</td><td>0  </td><td>4  </td><td>1  </td><td>1  </td><td>1  </td><td>57 </td><td>52 </td><td>41 </td><td>47 </td><td>57 </td></tr>\n",
       "\t<tr><td>121</td><td>1  </td><td>4  </td><td>2  </td><td>1  </td><td>3  </td><td>68 </td><td>59 </td><td>53 </td><td>63 </td><td>61 </td></tr>\n",
       "\t<tr><td> 86</td><td>0  </td><td>4  </td><td>3  </td><td>1  </td><td>1  </td><td>44 </td><td>33 </td><td>54 </td><td>58 </td><td>31 </td></tr>\n",
       "\t<tr><td>141</td><td>0  </td><td>4  </td><td>3  </td><td>1  </td><td>3  </td><td>63 </td><td>44 </td><td>47 </td><td>53 </td><td>56 </td></tr>\n",
       "\t<tr><td>172</td><td>0  </td><td>4  </td><td>2  </td><td>1  </td><td>2  </td><td>47 </td><td>52 </td><td>57 </td><td>53 </td><td>61 </td></tr>\n",
       "\t<tr><td>113</td><td>0  </td><td>4  </td><td>2  </td><td>1  </td><td>2  </td><td>44 </td><td>52 </td><td>51 </td><td>63 </td><td>61 </td></tr>\n",
       "\t<tr><td> 50</td><td>0  </td><td>3  </td><td>2  </td><td>1  </td><td>1  </td><td>50 </td><td>59 </td><td>42 </td><td>53 </td><td>61 </td></tr>\n",
       "\t<tr><td> 11</td><td>0  </td><td>1  </td><td>2  </td><td>1  </td><td>2  </td><td>34 </td><td>46 </td><td>45 </td><td>39 </td><td>36 </td></tr>\n",
       "\t<tr><td> 84</td><td>0  </td><td>4  </td><td>2  </td><td>1  </td><td>1  </td><td>63 </td><td>57 </td><td>54 </td><td>58 </td><td>51 </td></tr>\n",
       "\t<tr><td> 48</td><td>0  </td><td>3  </td><td>2  </td><td>1  </td><td>2  </td><td>57 </td><td>55 </td><td>52 </td><td>50 </td><td>51 </td></tr>\n",
       "\t<tr><td> 75</td><td>0  </td><td>4  </td><td>2  </td><td>1  </td><td>3  </td><td>60 </td><td>46 </td><td>51 </td><td>53 </td><td>61 </td></tr>\n",
       "\t<tr><td> 60</td><td>0  </td><td>4  </td><td>2  </td><td>1  </td><td>2  </td><td>57 </td><td>65 </td><td>51 </td><td>63 </td><td>61 </td></tr>\n",
       "\t<tr><td> 95</td><td>0  </td><td>4  </td><td>3  </td><td>1  </td><td>2  </td><td>73 </td><td>60 </td><td>71 </td><td>61 </td><td>71 </td></tr>\n",
       "\t<tr><td>104</td><td>0  </td><td>4  </td><td>3  </td><td>1  </td><td>2  </td><td>54 </td><td>63 </td><td>57 </td><td>55 </td><td>46 </td></tr>\n",
       "\t<tr><td> 38</td><td>0  </td><td>3  </td><td>1  </td><td>1  </td><td>2  </td><td>45 </td><td>57 </td><td>50 </td><td>31 </td><td>56 </td></tr>\n",
       "\t<tr><td>115</td><td>0  </td><td>4  </td><td>1  </td><td>1  </td><td>1  </td><td>42 </td><td>49 </td><td>43 </td><td>50 </td><td>56 </td></tr>\n",
       "\t<tr><td> 76</td><td>0  </td><td>4  </td><td>3  </td><td>1  </td><td>2  </td><td>47 </td><td>52 </td><td>51 </td><td>50 </td><td>56 </td></tr>\n",
       "\t<tr><td>195</td><td>0  </td><td>4  </td><td>2  </td><td>2  </td><td>1  </td><td>57 </td><td>57 </td><td>60 </td><td>58 </td><td>56 </td></tr>\n",
       "\t<tr><td>114</td><td>0  </td><td>4  </td><td>3  </td><td>1  </td><td>2  </td><td>68 </td><td>65 </td><td>62 </td><td>55 </td><td>61 </td></tr>\n",
       "\t<tr><td> 85</td><td>0  </td><td>4  </td><td>2  </td><td>1  </td><td>1  </td><td>55 </td><td>39 </td><td>57 </td><td>53 </td><td>46 </td></tr>\n",
       "\t<tr><td>167</td><td>0  </td><td>4  </td><td>2  </td><td>1  </td><td>1  </td><td>63 </td><td>49 </td><td>35 </td><td>66 </td><td>41 </td></tr>\n",
       "\t<tr><td>143</td><td>0  </td><td>4  </td><td>2  </td><td>1  </td><td>3  </td><td>63 </td><td>63 </td><td>75 </td><td>72 </td><td>66 </td></tr>\n",
       "\t<tr><td> 41</td><td>0  </td><td>3  </td><td>2  </td><td>1  </td><td>2  </td><td>50 </td><td>40 </td><td>45 </td><td>55 </td><td>56 </td></tr>\n",
       "\t<tr><td> 20</td><td>0  </td><td>1  </td><td>3  </td><td>1  </td><td>2  </td><td>60 </td><td>52 </td><td>57 </td><td>61 </td><td>61 </td></tr>\n",
       "\t<tr><td> 12</td><td>0  </td><td>1  </td><td>2  </td><td>1  </td><td>3  </td><td>37 </td><td>44 </td><td>45 </td><td>39 </td><td>46 </td></tr>\n",
       "\t<tr><td> 53</td><td>0  </td><td>3  </td><td>2  </td><td>1  </td><td>3  </td><td>34 </td><td>37 </td><td>46 </td><td>39 </td><td>31 </td></tr>\n",
       "\t<tr><td>154</td><td>0  </td><td>4  </td><td>3  </td><td>1  </td><td>2  </td><td>65 </td><td>65 </td><td>66 </td><td>61 </td><td>66 </td></tr>\n",
       "\t<tr><td>178</td><td>0  </td><td>4  </td><td>2  </td><td>2  </td><td>3  </td><td>47 </td><td>57 </td><td>57 </td><td>58 </td><td>46 </td></tr>\n",
       "\t<tr><td>196</td><td>0  </td><td>4  </td><td>3  </td><td>2  </td><td>2  </td><td>44 </td><td>38 </td><td>49 </td><td>39 </td><td>46 </td></tr>\n",
       "\t<tr><td> 29</td><td>0  </td><td>2  </td><td>1  </td><td>1  </td><td>1  </td><td>52 </td><td>44 </td><td>49 </td><td>55 </td><td>41 </td></tr>\n",
       "\t<tr><td>⋮</td><td>⋮</td><td>⋮</td><td>⋮</td><td>⋮</td><td>⋮</td><td>⋮</td><td>⋮</td><td>⋮</td><td>⋮</td><td>⋮</td></tr>\n",
       "\t<tr><td>119</td><td>1  </td><td>4  </td><td>1  </td><td>1  </td><td>1  </td><td>42 </td><td>57 </td><td>45 </td><td>50 </td><td>43 </td></tr>\n",
       "\t<tr><td> 13</td><td>1  </td><td>1  </td><td>2  </td><td>1  </td><td>3  </td><td>47 </td><td>46 </td><td>39 </td><td>47 </td><td>61 </td></tr>\n",
       "\t<tr><td> 51</td><td>1  </td><td>3  </td><td>3  </td><td>1  </td><td>1  </td><td>42 </td><td>36 </td><td>42 </td><td>31 </td><td>39 </td></tr>\n",
       "\t<tr><td> 26</td><td>1  </td><td>2  </td><td>3  </td><td>1  </td><td>2  </td><td>60 </td><td>59 </td><td>62 </td><td>61 </td><td>51 </td></tr>\n",
       "\t<tr><td> 36</td><td>1  </td><td>3  </td><td>1  </td><td>1  </td><td>1  </td><td>44 </td><td>49 </td><td>44 </td><td>35 </td><td>51 </td></tr>\n",
       "\t<tr><td>135</td><td>1  </td><td>4  </td><td>1  </td><td>1  </td><td>2  </td><td>63 </td><td>60 </td><td>65 </td><td>54 </td><td>66 </td></tr>\n",
       "\t<tr><td> 59</td><td>1  </td><td>4  </td><td>2  </td><td>1  </td><td>2  </td><td>65 </td><td>67 </td><td>63 </td><td>55 </td><td>71 </td></tr>\n",
       "\t<tr><td> 78</td><td>1  </td><td>4  </td><td>2  </td><td>1  </td><td>2  </td><td>39 </td><td>54 </td><td>54 </td><td>53 </td><td>41 </td></tr>\n",
       "\t<tr><td> 64</td><td>1  </td><td>4  </td><td>3  </td><td>1  </td><td>3  </td><td>50 </td><td>52 </td><td>45 </td><td>58 </td><td>36 </td></tr>\n",
       "\t<tr><td> 63</td><td>1  </td><td>4  </td><td>1  </td><td>1  </td><td>1  </td><td>52 </td><td>65 </td><td>60 </td><td>56 </td><td>51 </td></tr>\n",
       "\t<tr><td> 79</td><td>1  </td><td>4  </td><td>2  </td><td>1  </td><td>2  </td><td>60 </td><td>62 </td><td>49 </td><td>50 </td><td>51 </td></tr>\n",
       "\t<tr><td>193</td><td>1  </td><td>4  </td><td>2  </td><td>2  </td><td>2  </td><td>44 </td><td>49 </td><td>48 </td><td>39 </td><td>51 </td></tr>\n",
       "\t<tr><td> 92</td><td>1  </td><td>4  </td><td>3  </td><td>1  </td><td>1  </td><td>52 </td><td>67 </td><td>57 </td><td>63 </td><td>61 </td></tr>\n",
       "\t<tr><td>160</td><td>1  </td><td>4  </td><td>2  </td><td>1  </td><td>2  </td><td>55 </td><td>65 </td><td>55 </td><td>50 </td><td>61 </td></tr>\n",
       "\t<tr><td> 32</td><td>1  </td><td>2  </td><td>3  </td><td>1  </td><td>3  </td><td>50 </td><td>67 </td><td>66 </td><td>66 </td><td>56 </td></tr>\n",
       "\t<tr><td> 23</td><td>1  </td><td>2  </td><td>1  </td><td>1  </td><td>2  </td><td>65 </td><td>65 </td><td>64 </td><td>58 </td><td>71 </td></tr>\n",
       "\t<tr><td>158</td><td>1  </td><td>4  </td><td>2  </td><td>1  </td><td>1  </td><td>52 </td><td>54 </td><td>55 </td><td>53 </td><td>51 </td></tr>\n",
       "\t<tr><td> 25</td><td>1  </td><td>2  </td><td>2  </td><td>1  </td><td>1  </td><td>47 </td><td>44 </td><td>42 </td><td>42 </td><td>36 </td></tr>\n",
       "\t<tr><td>188</td><td>1  </td><td>4  </td><td>3  </td><td>2  </td><td>2  </td><td>63 </td><td>62 </td><td>56 </td><td>55 </td><td>61 </td></tr>\n",
       "\t<tr><td> 52</td><td>1  </td><td>3  </td><td>1  </td><td>1  </td><td>2  </td><td>50 </td><td>46 </td><td>53 </td><td>53 </td><td>66 </td></tr>\n",
       "\t<tr><td>124</td><td>1  </td><td>4  </td><td>1  </td><td>1  </td><td>3  </td><td>42 </td><td>54 </td><td>41 </td><td>42 </td><td>41 </td></tr>\n",
       "\t<tr><td>175</td><td>1  </td><td>4  </td><td>3  </td><td>2  </td><td>1  </td><td>36 </td><td>57 </td><td>42 </td><td>50 </td><td>41 </td></tr>\n",
       "\t<tr><td>184</td><td>1  </td><td>4  </td><td>2  </td><td>2  </td><td>3  </td><td>50 </td><td>52 </td><td>53 </td><td>55 </td><td>56 </td></tr>\n",
       "\t<tr><td> 30</td><td>1  </td><td>2  </td><td>3  </td><td>1  </td><td>2  </td><td>41 </td><td>59 </td><td>42 </td><td>34 </td><td>51 </td></tr>\n",
       "\t<tr><td>179</td><td>1  </td><td>4  </td><td>2  </td><td>2  </td><td>2  </td><td>47 </td><td>65 </td><td>60 </td><td>50 </td><td>56 </td></tr>\n",
       "\t<tr><td> 31</td><td>1  </td><td>2  </td><td>2  </td><td>2  </td><td>1  </td><td>55 </td><td>59 </td><td>52 </td><td>42 </td><td>56 </td></tr>\n",
       "\t<tr><td>145</td><td>1  </td><td>4  </td><td>2  </td><td>1  </td><td>3  </td><td>42 </td><td>46 </td><td>38 </td><td>36 </td><td>46 </td></tr>\n",
       "\t<tr><td>187</td><td>1  </td><td>4  </td><td>2  </td><td>2  </td><td>1  </td><td>57 </td><td>41 </td><td>57 </td><td>55 </td><td>52 </td></tr>\n",
       "\t<tr><td>118</td><td>1  </td><td>4  </td><td>2  </td><td>1  </td><td>1  </td><td>55 </td><td>62 </td><td>58 </td><td>58 </td><td>61 </td></tr>\n",
       "\t<tr><td>137</td><td>1  </td><td>4  </td><td>3  </td><td>1  </td><td>2  </td><td>63 </td><td>65 </td><td>65 </td><td>53 </td><td>61 </td></tr>\n",
       "</tbody>\n",
       "</table>\n"
      ],
      "text/latex": [
       "\\begin{tabular}{r|lllllllllll}\n",
       " id & female & race & ses & schtyp & prog & read & write & math & science & socst\\\\\n",
       "\\hline\n",
       "\t  70 & 0   & 4   & 1   & 1   & 1   & 57  & 52  & 41  & 47  & 57 \\\\\n",
       "\t 121 & 1   & 4   & 2   & 1   & 3   & 68  & 59  & 53  & 63  & 61 \\\\\n",
       "\t  86 & 0   & 4   & 3   & 1   & 1   & 44  & 33  & 54  & 58  & 31 \\\\\n",
       "\t 141 & 0   & 4   & 3   & 1   & 3   & 63  & 44  & 47  & 53  & 56 \\\\\n",
       "\t 172 & 0   & 4   & 2   & 1   & 2   & 47  & 52  & 57  & 53  & 61 \\\\\n",
       "\t 113 & 0   & 4   & 2   & 1   & 2   & 44  & 52  & 51  & 63  & 61 \\\\\n",
       "\t  50 & 0   & 3   & 2   & 1   & 1   & 50  & 59  & 42  & 53  & 61 \\\\\n",
       "\t  11 & 0   & 1   & 2   & 1   & 2   & 34  & 46  & 45  & 39  & 36 \\\\\n",
       "\t  84 & 0   & 4   & 2   & 1   & 1   & 63  & 57  & 54  & 58  & 51 \\\\\n",
       "\t  48 & 0   & 3   & 2   & 1   & 2   & 57  & 55  & 52  & 50  & 51 \\\\\n",
       "\t  75 & 0   & 4   & 2   & 1   & 3   & 60  & 46  & 51  & 53  & 61 \\\\\n",
       "\t  60 & 0   & 4   & 2   & 1   & 2   & 57  & 65  & 51  & 63  & 61 \\\\\n",
       "\t  95 & 0   & 4   & 3   & 1   & 2   & 73  & 60  & 71  & 61  & 71 \\\\\n",
       "\t 104 & 0   & 4   & 3   & 1   & 2   & 54  & 63  & 57  & 55  & 46 \\\\\n",
       "\t  38 & 0   & 3   & 1   & 1   & 2   & 45  & 57  & 50  & 31  & 56 \\\\\n",
       "\t 115 & 0   & 4   & 1   & 1   & 1   & 42  & 49  & 43  & 50  & 56 \\\\\n",
       "\t  76 & 0   & 4   & 3   & 1   & 2   & 47  & 52  & 51  & 50  & 56 \\\\\n",
       "\t 195 & 0   & 4   & 2   & 2   & 1   & 57  & 57  & 60  & 58  & 56 \\\\\n",
       "\t 114 & 0   & 4   & 3   & 1   & 2   & 68  & 65  & 62  & 55  & 61 \\\\\n",
       "\t  85 & 0   & 4   & 2   & 1   & 1   & 55  & 39  & 57  & 53  & 46 \\\\\n",
       "\t 167 & 0   & 4   & 2   & 1   & 1   & 63  & 49  & 35  & 66  & 41 \\\\\n",
       "\t 143 & 0   & 4   & 2   & 1   & 3   & 63  & 63  & 75  & 72  & 66 \\\\\n",
       "\t  41 & 0   & 3   & 2   & 1   & 2   & 50  & 40  & 45  & 55  & 56 \\\\\n",
       "\t  20 & 0   & 1   & 3   & 1   & 2   & 60  & 52  & 57  & 61  & 61 \\\\\n",
       "\t  12 & 0   & 1   & 2   & 1   & 3   & 37  & 44  & 45  & 39  & 46 \\\\\n",
       "\t  53 & 0   & 3   & 2   & 1   & 3   & 34  & 37  & 46  & 39  & 31 \\\\\n",
       "\t 154 & 0   & 4   & 3   & 1   & 2   & 65  & 65  & 66  & 61  & 66 \\\\\n",
       "\t 178 & 0   & 4   & 2   & 2   & 3   & 47  & 57  & 57  & 58  & 46 \\\\\n",
       "\t 196 & 0   & 4   & 3   & 2   & 2   & 44  & 38  & 49  & 39  & 46 \\\\\n",
       "\t  29 & 0   & 2   & 1   & 1   & 1   & 52  & 44  & 49  & 55  & 41 \\\\\n",
       "\t ⋮ & ⋮ & ⋮ & ⋮ & ⋮ & ⋮ & ⋮ & ⋮ & ⋮ & ⋮ & ⋮\\\\\n",
       "\t 119 & 1   & 4   & 1   & 1   & 1   & 42  & 57  & 45  & 50  & 43 \\\\\n",
       "\t  13 & 1   & 1   & 2   & 1   & 3   & 47  & 46  & 39  & 47  & 61 \\\\\n",
       "\t  51 & 1   & 3   & 3   & 1   & 1   & 42  & 36  & 42  & 31  & 39 \\\\\n",
       "\t  26 & 1   & 2   & 3   & 1   & 2   & 60  & 59  & 62  & 61  & 51 \\\\\n",
       "\t  36 & 1   & 3   & 1   & 1   & 1   & 44  & 49  & 44  & 35  & 51 \\\\\n",
       "\t 135 & 1   & 4   & 1   & 1   & 2   & 63  & 60  & 65  & 54  & 66 \\\\\n",
       "\t  59 & 1   & 4   & 2   & 1   & 2   & 65  & 67  & 63  & 55  & 71 \\\\\n",
       "\t  78 & 1   & 4   & 2   & 1   & 2   & 39  & 54  & 54  & 53  & 41 \\\\\n",
       "\t  64 & 1   & 4   & 3   & 1   & 3   & 50  & 52  & 45  & 58  & 36 \\\\\n",
       "\t  63 & 1   & 4   & 1   & 1   & 1   & 52  & 65  & 60  & 56  & 51 \\\\\n",
       "\t  79 & 1   & 4   & 2   & 1   & 2   & 60  & 62  & 49  & 50  & 51 \\\\\n",
       "\t 193 & 1   & 4   & 2   & 2   & 2   & 44  & 49  & 48  & 39  & 51 \\\\\n",
       "\t  92 & 1   & 4   & 3   & 1   & 1   & 52  & 67  & 57  & 63  & 61 \\\\\n",
       "\t 160 & 1   & 4   & 2   & 1   & 2   & 55  & 65  & 55  & 50  & 61 \\\\\n",
       "\t  32 & 1   & 2   & 3   & 1   & 3   & 50  & 67  & 66  & 66  & 56 \\\\\n",
       "\t  23 & 1   & 2   & 1   & 1   & 2   & 65  & 65  & 64  & 58  & 71 \\\\\n",
       "\t 158 & 1   & 4   & 2   & 1   & 1   & 52  & 54  & 55  & 53  & 51 \\\\\n",
       "\t  25 & 1   & 2   & 2   & 1   & 1   & 47  & 44  & 42  & 42  & 36 \\\\\n",
       "\t 188 & 1   & 4   & 3   & 2   & 2   & 63  & 62  & 56  & 55  & 61 \\\\\n",
       "\t  52 & 1   & 3   & 1   & 1   & 2   & 50  & 46  & 53  & 53  & 66 \\\\\n",
       "\t 124 & 1   & 4   & 1   & 1   & 3   & 42  & 54  & 41  & 42  & 41 \\\\\n",
       "\t 175 & 1   & 4   & 3   & 2   & 1   & 36  & 57  & 42  & 50  & 41 \\\\\n",
       "\t 184 & 1   & 4   & 2   & 2   & 3   & 50  & 52  & 53  & 55  & 56 \\\\\n",
       "\t  30 & 1   & 2   & 3   & 1   & 2   & 41  & 59  & 42  & 34  & 51 \\\\\n",
       "\t 179 & 1   & 4   & 2   & 2   & 2   & 47  & 65  & 60  & 50  & 56 \\\\\n",
       "\t  31 & 1   & 2   & 2   & 2   & 1   & 55  & 59  & 52  & 42  & 56 \\\\\n",
       "\t 145 & 1   & 4   & 2   & 1   & 3   & 42  & 46  & 38  & 36  & 46 \\\\\n",
       "\t 187 & 1   & 4   & 2   & 2   & 1   & 57  & 41  & 57  & 55  & 52 \\\\\n",
       "\t 118 & 1   & 4   & 2   & 1   & 1   & 55  & 62  & 58  & 58  & 61 \\\\\n",
       "\t 137 & 1   & 4   & 3   & 1   & 2   & 63  & 65  & 65  & 53  & 61 \\\\\n",
       "\\end{tabular}\n"
      ],
      "text/markdown": [
       "\n",
       "id | female | race | ses | schtyp | prog | read | write | math | science | socst | \n",
       "|---|---|---|---|---|---|---|---|---|---|---|---|---|---|---|---|---|---|---|---|---|---|---|---|---|---|---|---|---|---|---|---|---|---|---|---|---|---|---|---|---|---|---|---|---|---|---|---|---|---|---|---|---|---|---|---|---|---|---|---|---|\n",
       "|  70 | 0   | 4   | 1   | 1   | 1   | 57  | 52  | 41  | 47  | 57  | \n",
       "| 121 | 1   | 4   | 2   | 1   | 3   | 68  | 59  | 53  | 63  | 61  | \n",
       "|  86 | 0   | 4   | 3   | 1   | 1   | 44  | 33  | 54  | 58  | 31  | \n",
       "| 141 | 0   | 4   | 3   | 1   | 3   | 63  | 44  | 47  | 53  | 56  | \n",
       "| 172 | 0   | 4   | 2   | 1   | 2   | 47  | 52  | 57  | 53  | 61  | \n",
       "| 113 | 0   | 4   | 2   | 1   | 2   | 44  | 52  | 51  | 63  | 61  | \n",
       "|  50 | 0   | 3   | 2   | 1   | 1   | 50  | 59  | 42  | 53  | 61  | \n",
       "|  11 | 0   | 1   | 2   | 1   | 2   | 34  | 46  | 45  | 39  | 36  | \n",
       "|  84 | 0   | 4   | 2   | 1   | 1   | 63  | 57  | 54  | 58  | 51  | \n",
       "|  48 | 0   | 3   | 2   | 1   | 2   | 57  | 55  | 52  | 50  | 51  | \n",
       "|  75 | 0   | 4   | 2   | 1   | 3   | 60  | 46  | 51  | 53  | 61  | \n",
       "|  60 | 0   | 4   | 2   | 1   | 2   | 57  | 65  | 51  | 63  | 61  | \n",
       "|  95 | 0   | 4   | 3   | 1   | 2   | 73  | 60  | 71  | 61  | 71  | \n",
       "| 104 | 0   | 4   | 3   | 1   | 2   | 54  | 63  | 57  | 55  | 46  | \n",
       "|  38 | 0   | 3   | 1   | 1   | 2   | 45  | 57  | 50  | 31  | 56  | \n",
       "| 115 | 0   | 4   | 1   | 1   | 1   | 42  | 49  | 43  | 50  | 56  | \n",
       "|  76 | 0   | 4   | 3   | 1   | 2   | 47  | 52  | 51  | 50  | 56  | \n",
       "| 195 | 0   | 4   | 2   | 2   | 1   | 57  | 57  | 60  | 58  | 56  | \n",
       "| 114 | 0   | 4   | 3   | 1   | 2   | 68  | 65  | 62  | 55  | 61  | \n",
       "|  85 | 0   | 4   | 2   | 1   | 1   | 55  | 39  | 57  | 53  | 46  | \n",
       "| 167 | 0   | 4   | 2   | 1   | 1   | 63  | 49  | 35  | 66  | 41  | \n",
       "| 143 | 0   | 4   | 2   | 1   | 3   | 63  | 63  | 75  | 72  | 66  | \n",
       "|  41 | 0   | 3   | 2   | 1   | 2   | 50  | 40  | 45  | 55  | 56  | \n",
       "|  20 | 0   | 1   | 3   | 1   | 2   | 60  | 52  | 57  | 61  | 61  | \n",
       "|  12 | 0   | 1   | 2   | 1   | 3   | 37  | 44  | 45  | 39  | 46  | \n",
       "|  53 | 0   | 3   | 2   | 1   | 3   | 34  | 37  | 46  | 39  | 31  | \n",
       "| 154 | 0   | 4   | 3   | 1   | 2   | 65  | 65  | 66  | 61  | 66  | \n",
       "| 178 | 0   | 4   | 2   | 2   | 3   | 47  | 57  | 57  | 58  | 46  | \n",
       "| 196 | 0   | 4   | 3   | 2   | 2   | 44  | 38  | 49  | 39  | 46  | \n",
       "|  29 | 0   | 2   | 1   | 1   | 1   | 52  | 44  | 49  | 55  | 41  | \n",
       "| ⋮ | ⋮ | ⋮ | ⋮ | ⋮ | ⋮ | ⋮ | ⋮ | ⋮ | ⋮ | ⋮ | \n",
       "| 119 | 1   | 4   | 1   | 1   | 1   | 42  | 57  | 45  | 50  | 43  | \n",
       "|  13 | 1   | 1   | 2   | 1   | 3   | 47  | 46  | 39  | 47  | 61  | \n",
       "|  51 | 1   | 3   | 3   | 1   | 1   | 42  | 36  | 42  | 31  | 39  | \n",
       "|  26 | 1   | 2   | 3   | 1   | 2   | 60  | 59  | 62  | 61  | 51  | \n",
       "|  36 | 1   | 3   | 1   | 1   | 1   | 44  | 49  | 44  | 35  | 51  | \n",
       "| 135 | 1   | 4   | 1   | 1   | 2   | 63  | 60  | 65  | 54  | 66  | \n",
       "|  59 | 1   | 4   | 2   | 1   | 2   | 65  | 67  | 63  | 55  | 71  | \n",
       "|  78 | 1   | 4   | 2   | 1   | 2   | 39  | 54  | 54  | 53  | 41  | \n",
       "|  64 | 1   | 4   | 3   | 1   | 3   | 50  | 52  | 45  | 58  | 36  | \n",
       "|  63 | 1   | 4   | 1   | 1   | 1   | 52  | 65  | 60  | 56  | 51  | \n",
       "|  79 | 1   | 4   | 2   | 1   | 2   | 60  | 62  | 49  | 50  | 51  | \n",
       "| 193 | 1   | 4   | 2   | 2   | 2   | 44  | 49  | 48  | 39  | 51  | \n",
       "|  92 | 1   | 4   | 3   | 1   | 1   | 52  | 67  | 57  | 63  | 61  | \n",
       "| 160 | 1   | 4   | 2   | 1   | 2   | 55  | 65  | 55  | 50  | 61  | \n",
       "|  32 | 1   | 2   | 3   | 1   | 3   | 50  | 67  | 66  | 66  | 56  | \n",
       "|  23 | 1   | 2   | 1   | 1   | 2   | 65  | 65  | 64  | 58  | 71  | \n",
       "| 158 | 1   | 4   | 2   | 1   | 1   | 52  | 54  | 55  | 53  | 51  | \n",
       "|  25 | 1   | 2   | 2   | 1   | 1   | 47  | 44  | 42  | 42  | 36  | \n",
       "| 188 | 1   | 4   | 3   | 2   | 2   | 63  | 62  | 56  | 55  | 61  | \n",
       "|  52 | 1   | 3   | 1   | 1   | 2   | 50  | 46  | 53  | 53  | 66  | \n",
       "| 124 | 1   | 4   | 1   | 1   | 3   | 42  | 54  | 41  | 42  | 41  | \n",
       "| 175 | 1   | 4   | 3   | 2   | 1   | 36  | 57  | 42  | 50  | 41  | \n",
       "| 184 | 1   | 4   | 2   | 2   | 3   | 50  | 52  | 53  | 55  | 56  | \n",
       "|  30 | 1   | 2   | 3   | 1   | 2   | 41  | 59  | 42  | 34  | 51  | \n",
       "| 179 | 1   | 4   | 2   | 2   | 2   | 47  | 65  | 60  | 50  | 56  | \n",
       "|  31 | 1   | 2   | 2   | 2   | 1   | 55  | 59  | 52  | 42  | 56  | \n",
       "| 145 | 1   | 4   | 2   | 1   | 3   | 42  | 46  | 38  | 36  | 46  | \n",
       "| 187 | 1   | 4   | 2   | 2   | 1   | 57  | 41  | 57  | 55  | 52  | \n",
       "| 118 | 1   | 4   | 2   | 1   | 1   | 55  | 62  | 58  | 58  | 61  | \n",
       "| 137 | 1   | 4   | 3   | 1   | 2   | 63  | 65  | 65  | 53  | 61  | \n",
       "\n",
       "\n"
      ],
      "text/plain": [
       "    id  female race ses schtyp prog read write math science socst\n",
       "1    70 0      4    1   1      1    57   52    41   47      57   \n",
       "2   121 1      4    2   1      3    68   59    53   63      61   \n",
       "3    86 0      4    3   1      1    44   33    54   58      31   \n",
       "4   141 0      4    3   1      3    63   44    47   53      56   \n",
       "5   172 0      4    2   1      2    47   52    57   53      61   \n",
       "6   113 0      4    2   1      2    44   52    51   63      61   \n",
       "7    50 0      3    2   1      1    50   59    42   53      61   \n",
       "8    11 0      1    2   1      2    34   46    45   39      36   \n",
       "9    84 0      4    2   1      1    63   57    54   58      51   \n",
       "10   48 0      3    2   1      2    57   55    52   50      51   \n",
       "11   75 0      4    2   1      3    60   46    51   53      61   \n",
       "12   60 0      4    2   1      2    57   65    51   63      61   \n",
       "13   95 0      4    3   1      2    73   60    71   61      71   \n",
       "14  104 0      4    3   1      2    54   63    57   55      46   \n",
       "15   38 0      3    1   1      2    45   57    50   31      56   \n",
       "16  115 0      4    1   1      1    42   49    43   50      56   \n",
       "17   76 0      4    3   1      2    47   52    51   50      56   \n",
       "18  195 0      4    2   2      1    57   57    60   58      56   \n",
       "19  114 0      4    3   1      2    68   65    62   55      61   \n",
       "20   85 0      4    2   1      1    55   39    57   53      46   \n",
       "21  167 0      4    2   1      1    63   49    35   66      41   \n",
       "22  143 0      4    2   1      3    63   63    75   72      66   \n",
       "23   41 0      3    2   1      2    50   40    45   55      56   \n",
       "24   20 0      1    3   1      2    60   52    57   61      61   \n",
       "25   12 0      1    2   1      3    37   44    45   39      46   \n",
       "26   53 0      3    2   1      3    34   37    46   39      31   \n",
       "27  154 0      4    3   1      2    65   65    66   61      66   \n",
       "28  178 0      4    2   2      3    47   57    57   58      46   \n",
       "29  196 0      4    3   2      2    44   38    49   39      46   \n",
       "30   29 0      2    1   1      1    52   44    49   55      41   \n",
       "⋮   ⋮   ⋮      ⋮    ⋮   ⋮      ⋮    ⋮    ⋮     ⋮    ⋮       ⋮    \n",
       "171 119 1      4    1   1      1    42   57    45   50      43   \n",
       "172  13 1      1    2   1      3    47   46    39   47      61   \n",
       "173  51 1      3    3   1      1    42   36    42   31      39   \n",
       "174  26 1      2    3   1      2    60   59    62   61      51   \n",
       "175  36 1      3    1   1      1    44   49    44   35      51   \n",
       "176 135 1      4    1   1      2    63   60    65   54      66   \n",
       "177  59 1      4    2   1      2    65   67    63   55      71   \n",
       "178  78 1      4    2   1      2    39   54    54   53      41   \n",
       "179  64 1      4    3   1      3    50   52    45   58      36   \n",
       "180  63 1      4    1   1      1    52   65    60   56      51   \n",
       "181  79 1      4    2   1      2    60   62    49   50      51   \n",
       "182 193 1      4    2   2      2    44   49    48   39      51   \n",
       "183  92 1      4    3   1      1    52   67    57   63      61   \n",
       "184 160 1      4    2   1      2    55   65    55   50      61   \n",
       "185  32 1      2    3   1      3    50   67    66   66      56   \n",
       "186  23 1      2    1   1      2    65   65    64   58      71   \n",
       "187 158 1      4    2   1      1    52   54    55   53      51   \n",
       "188  25 1      2    2   1      1    47   44    42   42      36   \n",
       "189 188 1      4    3   2      2    63   62    56   55      61   \n",
       "190  52 1      3    1   1      2    50   46    53   53      66   \n",
       "191 124 1      4    1   1      3    42   54    41   42      41   \n",
       "192 175 1      4    3   2      1    36   57    42   50      41   \n",
       "193 184 1      4    2   2      3    50   52    53   55      56   \n",
       "194  30 1      2    3   1      2    41   59    42   34      51   \n",
       "195 179 1      4    2   2      2    47   65    60   50      56   \n",
       "196  31 1      2    2   2      1    55   59    52   42      56   \n",
       "197 145 1      4    2   1      3    42   46    38   36      46   \n",
       "198 187 1      4    2   2      1    57   41    57   55      52   \n",
       "199 118 1      4    2   1      1    55   62    58   58      61   \n",
       "200 137 1      4    3   1      2    63   65    65   53      61   "
      ]
     },
     "metadata": {},
     "output_type": "display_data"
    }
   ],
   "source": [
    "hsb2"
   ]
  },
  {
   "cell_type": "code",
   "execution_count": 7,
   "metadata": {},
   "outputs": [],
   "source": [
    "#creating the factor variable race.f\n",
    "hsb2$race.f = factor(hsb2$race, labels=c(\"Hispanic\", \"Asian\", \"African-Am\", \"Caucasian\"))\n",
    "\n",
    "#Before considering any analyses, let’s look at the mean of the dependent variable, write, \n",
    "#for each level of race.  This will help in interpreting the output from later analyses."
   ]
  },
  {
   "cell_type": "code",
   "execution_count": 8,
   "metadata": {},
   "outputs": [
    {
     "name": "stderr",
     "output_type": "stream",
     "text": [
      "ERROR while rich displaying an object: Error in dn[[2L]]: subscript out of bounds\n",
      "\n",
      "Traceback:\n",
      "1. FUN(X[[i]], ...)\n",
      "2. tryCatch(withCallingHandlers({\n",
      " .     rpr <- mime2repr[[mime]](obj)\n",
      " .     if (is.null(rpr)) \n",
      " .         return(NULL)\n",
      " .     prepare_content(is.raw(rpr), rpr)\n",
      " . }, error = error_handler), error = outer_handler)\n",
      "3. tryCatchList(expr, classes, parentenv, handlers)\n",
      "4. tryCatchOne(expr, names, parentenv, handlers[[1L]])\n",
      "5. doTryCatch(return(expr), name, parentenv, handler)\n",
      "6. withCallingHandlers({\n",
      " .     rpr <- mime2repr[[mime]](obj)\n",
      " .     if (is.null(rpr)) \n",
      " .         return(NULL)\n",
      " .     prepare_content(is.raw(rpr), rpr)\n",
      " . }, error = error_handler)\n",
      "7. mime2repr[[mime]](obj)\n",
      "8. repr_markdown.numeric(obj)\n",
      "9. repr_vector_generic(html_escape_names(obj), \"%s. %s\\n\", \"%s\\n:   %s\", \n",
      " .     \"**%s:** %s\", \"%s\\n\\n\", item_uses_numbers = TRUE, escape_fun = html_escape)\n",
      "10. html_escape_names(obj)\n",
      "11. .escape_names(obj, \"html\")\n",
      "12. colnames(obj)\n",
      "ERROR while rich displaying an object: Error in dn[[2L]]: subscript out of bounds\n",
      "\n",
      "Traceback:\n",
      "1. FUN(X[[i]], ...)\n",
      "2. tryCatch(withCallingHandlers({\n",
      " .     rpr <- mime2repr[[mime]](obj)\n",
      " .     if (is.null(rpr)) \n",
      " .         return(NULL)\n",
      " .     prepare_content(is.raw(rpr), rpr)\n",
      " . }, error = error_handler), error = outer_handler)\n",
      "3. tryCatchList(expr, classes, parentenv, handlers)\n",
      "4. tryCatchOne(expr, names, parentenv, handlers[[1L]])\n",
      "5. doTryCatch(return(expr), name, parentenv, handler)\n",
      "6. withCallingHandlers({\n",
      " .     rpr <- mime2repr[[mime]](obj)\n",
      " .     if (is.null(rpr)) \n",
      " .         return(NULL)\n",
      " .     prepare_content(is.raw(rpr), rpr)\n",
      " . }, error = error_handler)\n",
      "7. mime2repr[[mime]](obj)\n",
      "8. repr_latex.numeric(obj)\n",
      "9. repr_vector_generic(latex_escape_names(obj), \"\\\\item %s\\n\", \"\\\\item[%s] %s\\n\", \n",
      " .     \"\\\\textbf{%s:} %s\", enum_wrap = \"\\\\begin{enumerate*}\\n%s\\\\end{enumerate*}\\n\", \n",
      " .     named_wrap = \"\\\\begin{description*}\\n%s\\\\end{description*}\\n\", \n",
      " .     only_named_item = \"\\\\textbf{%s:} %s\", escape_fun = latex_escape)\n",
      "10. latex_escape_names(obj)\n",
      "11. .escape_names(obj, \"latex\")\n",
      "12. colnames(obj)\n"
     ]
    },
    {
     "data": {
      "text/html": [
       "<dl class=dl-horizontal>\n",
       "\t<dt>Hispanic</dt>\n",
       "\t\t<dd>46.4583333333333</dd>\n",
       "\t<dt>Asian</dt>\n",
       "\t\t<dd>58</dd>\n",
       "\t<dt>African-Am</dt>\n",
       "\t\t<dd>48.2</dd>\n",
       "\t<dt>Caucasian</dt>\n",
       "\t\t<dd>54.0551724137931</dd>\n",
       "</dl>\n"
      ],
      "text/plain": [
       "  Hispanic      Asian African-Am  Caucasian \n",
       "  46.45833   58.00000   48.20000   54.05517 "
      ]
     },
     "metadata": {},
     "output_type": "display_data"
    }
   ],
   "source": [
    "tapply(hsb2$write, hsb2$race.f, mean)"
   ]
  },
  {
   "cell_type": "markdown",
   "metadata": {},
   "source": [
    "## 1. Dummy Coding"
   ]
  },
  {
   "cell_type": "code",
   "execution_count": 10,
   "metadata": {},
   "outputs": [
    {
     "data": {
      "text/html": [
       "<table>\n",
       "<thead><tr><th></th><th scope=col>2</th><th scope=col>3</th><th scope=col>4</th></tr></thead>\n",
       "<tbody>\n",
       "\t<tr><th scope=row>1</th><td>0</td><td>0</td><td>0</td></tr>\n",
       "\t<tr><th scope=row>2</th><td>1</td><td>0</td><td>0</td></tr>\n",
       "\t<tr><th scope=row>3</th><td>0</td><td>1</td><td>0</td></tr>\n",
       "\t<tr><th scope=row>4</th><td>0</td><td>0</td><td>1</td></tr>\n",
       "</tbody>\n",
       "</table>\n"
      ],
      "text/latex": [
       "\\begin{tabular}{r|lll}\n",
       "  & 2 & 3 & 4\\\\\n",
       "\\hline\n",
       "\t1 & 0 & 0 & 0\\\\\n",
       "\t2 & 1 & 0 & 0\\\\\n",
       "\t3 & 0 & 1 & 0\\\\\n",
       "\t4 & 0 & 0 & 1\\\\\n",
       "\\end{tabular}\n"
      ],
      "text/markdown": [
       "\n",
       "| <!--/--> | 2 | 3 | 4 | \n",
       "|---|---|---|---|\n",
       "| 1 | 0 | 0 | 0 | \n",
       "| 2 | 1 | 0 | 0 | \n",
       "| 3 | 0 | 1 | 0 | \n",
       "| 4 | 0 | 0 | 1 | \n",
       "\n",
       "\n"
      ],
      "text/plain": [
       "  2 3 4\n",
       "1 0 0 0\n",
       "2 1 0 0\n",
       "3 0 1 0\n",
       "4 0 0 1"
      ]
     },
     "metadata": {},
     "output_type": "display_data"
    }
   ],
   "source": [
    "#the contrast matrix for categorical variable with four levels\n",
    "contr.treatment(4)"
   ]
  },
  {
   "cell_type": "markdown",
   "metadata": {},
   "source": [
    "Dummy coding is probably the most commonly used coding scheme. It compares each level of the categorical variable to a fixed reference level. For example, we can choose race = 1 as the reference group and compare the mean of variable write for each level of race 2, 3 and 4 to the reference level of 1. This is the default for unordered factors in R."
   ]
  },
  {
   "cell_type": "code",
   "execution_count": 8,
   "metadata": {},
   "outputs": [
    {
     "data": {
      "text/plain": [
       "\n",
       "Call:\n",
       "lm(formula = write ~ race.f, data = hsb2)\n",
       "\n",
       "Residuals:\n",
       "     Min       1Q   Median       3Q      Max \n",
       "-23.0552  -5.4583   0.9724   7.0000  18.8000 \n",
       "\n",
       "Coefficients:\n",
       "            Estimate Std. Error t value Pr(>|t|)    \n",
       "(Intercept)   46.458      1.842  25.218  < 2e-16 ***\n",
       "race.f2       11.542      3.286   3.512 0.000552 ***\n",
       "race.f3        1.742      2.732   0.637 0.524613    \n",
       "race.f4        7.597      1.989   3.820 0.000179 ***\n",
       "---\n",
       "Signif. codes:  0 ‘***’ 0.001 ‘**’ 0.01 ‘*’ 0.05 ‘.’ 0.1 ‘ ’ 1\n",
       "\n",
       "Residual standard error: 9.025 on 196 degrees of freedom\n",
       "Multiple R-squared:  0.1071,\tAdjusted R-squared:  0.0934 \n",
       "F-statistic: 7.833 on 3 and 196 DF,  p-value: 5.785e-05\n"
      ]
     },
     "metadata": {},
     "output_type": "display_data"
    }
   ],
   "source": [
    "#assigning the treatment contrasts to race.f\n",
    "contrasts(hsb2$race.f) = contr.treatment(4)\n",
    "#the regression\n",
    "summary(lm(write ~ race.f, hsb2))"
   ]
  },
  {
   "cell_type": "markdown",
   "metadata": {},
   "source": [
    "The parameter estimate for the first contrast compares the mean of the dependent variable, write, for levels 1 and 2 yielding 11.5417 and is statistically significant (p<.000). The t-value associated with this test is 3.5122.  The results of the second contrast, comparing the mean of write for levels 1 and 3. The expected difference in variable write between group 1 and 3 is 1.7417 and  is not statistically significant (t = 0.6374, p = .5246), while the third contrast is statistically significant. Notice that the intercept corresponds to the cell mean for race = Hispanic group."
   ]
  },
  {
   "cell_type": "markdown",
   "metadata": {},
   "source": [
    "### 2. Deviation Coding"
   ]
  },
  {
   "cell_type": "markdown",
   "metadata": {},
   "source": [
    "This coding system compares the mean of the dependent variable for a given level to the overall mean of the dependent variable.  In our example below, the first comparison compares level 1 (Hispanics) to all levels of race, the second comparison compares level 2 (Asians) to all levels of race, and the third comparison compares level 3 (African Americans) to all levels of race.\n",
    "\n",
    "As you see in the example below, the regression coding is accomplished by assigning 1 to level 1 for the first comparison (because level 1 is the level to be compared to all others), a 1 to level 2 for the second comparison (because level 2 is to be compared to all others), and 1 to level 3 for the third comparison (because level 3 is to be compared to all others).  Note that a  -1 is assigned to level 4 for all three comparisons (because it is the level that is never compared to the other levels) and all other values are assigned a 0.  This regression coding scheme yields the comparisons described above.\n",
    "We will not create the contrast matrix manually because the contr.sum function creates it for us."
   ]
  },
  {
   "cell_type": "code",
   "execution_count": 2,
   "metadata": {},
   "outputs": [
    {
     "data": {
      "text/html": [
       "<table>\n",
       "<tbody>\n",
       "\t<tr><th scope=row>1</th><td> 1</td><td> 0</td><td> 0</td></tr>\n",
       "\t<tr><th scope=row>2</th><td> 0</td><td> 1</td><td> 0</td></tr>\n",
       "\t<tr><th scope=row>3</th><td> 0</td><td> 0</td><td> 1</td></tr>\n",
       "\t<tr><th scope=row>4</th><td>-1</td><td>-1</td><td>-1</td></tr>\n",
       "</tbody>\n",
       "</table>\n"
      ],
      "text/latex": [
       "\\begin{tabular}{r|lll}\n",
       "\t1 &  1 &  0 &  0\\\\\n",
       "\t2 &  0 &  1 &  0\\\\\n",
       "\t3 &  0 &  0 &  1\\\\\n",
       "\t4 & -1 & -1 & -1\\\\\n",
       "\\end{tabular}\n"
      ],
      "text/markdown": [
       "\n",
       "| 1 |  1 |  0 |  0 | \n",
       "| 2 |  0 |  1 |  0 | \n",
       "| 3 |  0 |  0 |  1 | \n",
       "| 4 | -1 | -1 | -1 | \n",
       "\n",
       "\n"
      ],
      "text/plain": [
       "  [,1] [,2] [,3]\n",
       "1  1    0    0  \n",
       "2  0    1    0  \n",
       "3  0    0    1  \n",
       "4 -1   -1   -1  "
      ]
     },
     "metadata": {},
     "output_type": "display_data"
    }
   ],
   "source": [
    "#the contrast matrix for categorical variable with four levels\n",
    "contr.sum(4)"
   ]
  },
  {
   "cell_type": "code",
   "execution_count": 9,
   "metadata": {},
   "outputs": [
    {
     "data": {
      "text/plain": [
       "\n",
       "Call:\n",
       "lm(formula = write ~ race.f, data = hsb2)\n",
       "\n",
       "Residuals:\n",
       "     Min       1Q   Median       3Q      Max \n",
       "-23.0552  -5.4583   0.9724   7.0000  18.8000 \n",
       "\n",
       "Coefficients:\n",
       "            Estimate Std. Error t value Pr(>|t|)    \n",
       "(Intercept)  51.6784     0.9821  52.619  < 2e-16 ***\n",
       "race.f1      -5.2200     1.6314  -3.200  0.00160 ** \n",
       "race.f2       6.3216     2.1603   2.926  0.00384 ** \n",
       "race.f3      -3.4784     1.7323  -2.008  0.04602 *  \n",
       "---\n",
       "Signif. codes:  0 ‘***’ 0.001 ‘**’ 0.01 ‘*’ 0.05 ‘.’ 0.1 ‘ ’ 1\n",
       "\n",
       "Residual standard error: 9.025 on 196 degrees of freedom\n",
       "Multiple R-squared:  0.1071,\tAdjusted R-squared:  0.0934 \n",
       "F-statistic: 7.833 on 3 and 196 DF,  p-value: 5.785e-05\n"
      ]
     },
     "metadata": {},
     "output_type": "display_data"
    }
   ],
   "source": [
    "#assigning the deviation contrasts to race.f\n",
    "contrasts(hsb2$race.f) = contr.sum(4)\n",
    "#the regression\n",
    "summary(lm(write ~ race.f, hsb2))"
   ]
  },
  {
   "cell_type": "markdown",
   "metadata": {},
   "source": [
    "The contrast estimate is the mean for level 1 minus the grand mean.  However, this grand mean is not the mean of the dependent variable that is listed in the output of the means command above.  Rather it is the mean of means of the dependent variable at each level of the categorical variable:  (46.4583 + 58 + 48.2 + 54.0552) / 4 = 51.678375.  This contrast estimate is then 46.4583 – 51.678375 = -5.220.  The difference between this value and zero (the null hypothesis that the contrast coefficient is zero) is statistically significant (p = .0016), and the t-value for this test of -3.20. The results for the next two contrasts were computed in a similar manner."
   ]
  },
  {
   "cell_type": "markdown",
   "metadata": {},
   "source": [
    "### 3. Helmert Coding"
   ]
  },
  {
   "cell_type": "markdown",
   "metadata": {},
   "source": [
    "Helmert coding compares each level of a categorical variable to the mean of the subsequent levels.  Hence, the first contrast compares the mean of the dependent variable for level 1 of race with the mean of all of the subsequent levels of race (levels 2, 3, and 4), the second contrast compares the mean of the dependent variable for level 2 of race with the mean of all of the subsequent levels of race (levels 3 and 4), and the third contrast compares the mean of the dependent variable for level 3 of race with the mean of all of the subsequent levels of race (level 4).\n",
    "\n",
    "In R there is a built-in function, contr.helmert, which, up to a scale,  corresponds to the reverse Helmert coding discussed in next section.  We will create the contrast matrix for Helmert coding manually below.\n",
    "\n",
    "Below we see an example of Helmert regression coding.  For the first comparison (comparing level 1 with levels 2, 3 and 4) the codes are 3/4 and -1/4 -1/4 -1/4.  The second comparison compares level 2 with levels 3 and 4 and is coded 0 2/3 -1/3 -1/3.  The third comparison compares level 3 to level 4 and is coded 0 0 1/2 -1/2."
   ]
  },
  {
   "cell_type": "code",
   "execution_count": 10,
   "metadata": {},
   "outputs": [
    {
     "data": {
      "text/html": [
       "<table>\n",
       "<tbody>\n",
       "\t<tr><td> 0.75     </td><td> 0.0000000</td><td> 0.0      </td></tr>\n",
       "\t<tr><td>-0.25     </td><td> 0.6666667</td><td> 0.0      </td></tr>\n",
       "\t<tr><td>-0.25     </td><td>-0.3333333</td><td> 0.5      </td></tr>\n",
       "\t<tr><td>-0.25     </td><td>-0.3333333</td><td>-0.5      </td></tr>\n",
       "</tbody>\n",
       "</table>\n"
      ],
      "text/latex": [
       "\\begin{tabular}{lll}\n",
       "\t  0.75      &  0.0000000 &  0.0      \\\\\n",
       "\t -0.25      &  0.6666667 &  0.0      \\\\\n",
       "\t -0.25      & -0.3333333 &  0.5      \\\\\n",
       "\t -0.25      & -0.3333333 & -0.5      \\\\\n",
       "\\end{tabular}\n"
      ],
      "text/markdown": [
       "\n",
       "|  0.75      |  0.0000000 |  0.0       | \n",
       "| -0.25      |  0.6666667 |  0.0       | \n",
       "| -0.25      | -0.3333333 |  0.5       | \n",
       "| -0.25      | -0.3333333 | -0.5       | \n",
       "\n",
       "\n"
      ],
      "text/plain": [
       "     [,1]  [,2]       [,3]\n",
       "[1,]  0.75  0.0000000  0.0\n",
       "[2,] -0.25  0.6666667  0.0\n",
       "[3,] -0.25 -0.3333333  0.5\n",
       "[4,] -0.25 -0.3333333 -0.5"
      ]
     },
     "metadata": {},
     "output_type": "display_data"
    }
   ],
   "source": [
    "#helmert for factor variable with 4 levels\n",
    "my.helmert = matrix(c(3/4, -1/4, -1/4, -1/4, 0, 2/3, -1/3, -1/3, 0, 0, 1/\n",
    "\t2, -1/2), ncol = 3)\n",
    "my.helmert"
   ]
  },
  {
   "cell_type": "code",
   "execution_count": 11,
   "metadata": {},
   "outputs": [
    {
     "data": {
      "text/plain": [
       "\n",
       "Call:\n",
       "lm(formula = write ~ race.f, data = hsb2)\n",
       "\n",
       "Residuals:\n",
       "     Min       1Q   Median       3Q      Max \n",
       "-23.0552  -5.4583   0.9724   7.0000  18.8000 \n",
       "\n",
       "Coefficients:\n",
       "            Estimate Std. Error t value Pr(>|t|)    \n",
       "(Intercept)  51.6784     0.9821  52.619  < 2e-16 ***\n",
       "race.f1      -6.9601     2.1752  -3.200  0.00160 ** \n",
       "race.f2       6.8724     2.9263   2.348  0.01985 *  \n",
       "race.f3      -5.8552     2.1528  -2.720  0.00712 ** \n",
       "---\n",
       "Signif. codes:  0 ‘***’ 0.001 ‘**’ 0.01 ‘*’ 0.05 ‘.’ 0.1 ‘ ’ 1\n",
       "\n",
       "Residual standard error: 9.025 on 196 degrees of freedom\n",
       "Multiple R-squared:  0.1071,\tAdjusted R-squared:  0.0934 \n",
       "F-statistic: 7.833 on 3 and 196 DF,  p-value: 5.785e-05\n"
      ]
     },
     "metadata": {},
     "output_type": "display_data"
    }
   ],
   "source": [
    "#assigning the new helmert coding to race.f\n",
    "contrasts(hsb2$race.f) = my.helmert\n",
    "#the regression\n",
    "summary(lm(write ~ race.f, hsb2))"
   ]
  },
  {
   "cell_type": "markdown",
   "metadata": {},
   "source": [
    "The contrast estimate for the comparison between level 1 and the remaining levels is calculated by taking the mean of the dependent variable for level 1 and subtracting the mean of the dependent variable for levels 2, 3 and 4: 46.4583 – [(58 + 48.2 + 54.0552) / 3] = -6.960, which is statistically significant.  This means that the mean of write for level 1 of race is statistically significantly different from the mean of write for levels 2 through 4. To calculate the contrast coefficient for the comparison between level 2 and the later levels, you subtract the mean of the dependent variable for levels 3 and 4 from the mean of the dependent variable for level 2:  58 – [(48.2 + 54.0552) / 2] = 6.872, which is statistically significant.  The contrast estimate for the comparison between level 3 and level 4 is the difference between the mean of the dependent variable for the two levels:  48.2 – 54.0552 = -5.855, which is also statistically significant."
   ]
  },
  {
   "cell_type": "markdown",
   "metadata": {},
   "source": [
    "### 4. Orthogonal Polynomial"
   ]
  },
  {
   "cell_type": "markdown",
   "metadata": {},
   "source": [
    "Orthogonal polynomial coding is a form of trend analysis in that it is looking for the linear, quadratic and cubic trends in the categorical variable. This type of coding system should be used only with an ordinal variable in which the levels are equally spaced. Examples of such a variable might be income or education. The table below shows the contrast coefficients for the linear, quadratic and cubic trends for the four levels. In R it is not necessary to compute these values since this contrast can be obtained for any categorical variable by using the contr.poly function. This is also the default contrast used for ordered factor variables.\n",
    "\n",
    "For the purpose of illustration, let’s create an ordered categorical variable based on the variable read. Notice that this is the only example on this page that does not use race as the categorical variable, since it is not ordered."
   ]
  },
  {
   "cell_type": "code",
   "execution_count": 18,
   "metadata": {},
   "outputs": [
    {
     "data": {
      "text/plain": [
       "\n",
       "(28,40] (40,52] (52,64] (64,76] \n",
       "     22      93      55      30 "
      ]
     },
     "metadata": {},
     "output_type": "display_data"
    }
   ],
   "source": [
    "#using read values because race is not ordinal\n",
    "hsb2$readcat<-cut(hsb2$read, 4, ordered = TRUE)\n",
    "table(hsb2$readcat)"
   ]
  },
  {
   "cell_type": "code",
   "execution_count": 19,
   "metadata": {},
   "outputs": [
    {
     "name": "stderr",
     "output_type": "stream",
     "text": [
      "ERROR while rich displaying an object: Error in dn[[2L]]: subscript out of bounds\n",
      "\n",
      "Traceback:\n",
      "1. FUN(X[[i]], ...)\n",
      "2. tryCatch(withCallingHandlers({\n",
      " .     rpr <- mime2repr[[mime]](obj)\n",
      " .     if (is.null(rpr)) \n",
      " .         return(NULL)\n",
      " .     prepare_content(is.raw(rpr), rpr)\n",
      " . }, error = error_handler), error = outer_handler)\n",
      "3. tryCatchList(expr, classes, parentenv, handlers)\n",
      "4. tryCatchOne(expr, names, parentenv, handlers[[1L]])\n",
      "5. doTryCatch(return(expr), name, parentenv, handler)\n",
      "6. withCallingHandlers({\n",
      " .     rpr <- mime2repr[[mime]](obj)\n",
      " .     if (is.null(rpr)) \n",
      " .         return(NULL)\n",
      " .     prepare_content(is.raw(rpr), rpr)\n",
      " . }, error = error_handler)\n",
      "7. mime2repr[[mime]](obj)\n",
      "8. repr_markdown.numeric(obj)\n",
      "9. repr_vector_generic(html_escape_names(obj), \"%s. %s\\n\", \"%s\\n:   %s\", \n",
      " .     \"**%s:** %s\", \"%s\\n\\n\", item_uses_numbers = TRUE, escape_fun = html_escape)\n",
      "10. html_escape_names(obj)\n",
      "11. .escape_names(obj, \"html\")\n",
      "12. colnames(obj)\n",
      "ERROR while rich displaying an object: Error in dn[[2L]]: subscript out of bounds\n",
      "\n",
      "Traceback:\n",
      "1. FUN(X[[i]], ...)\n",
      "2. tryCatch(withCallingHandlers({\n",
      " .     rpr <- mime2repr[[mime]](obj)\n",
      " .     if (is.null(rpr)) \n",
      " .         return(NULL)\n",
      " .     prepare_content(is.raw(rpr), rpr)\n",
      " . }, error = error_handler), error = outer_handler)\n",
      "3. tryCatchList(expr, classes, parentenv, handlers)\n",
      "4. tryCatchOne(expr, names, parentenv, handlers[[1L]])\n",
      "5. doTryCatch(return(expr), name, parentenv, handler)\n",
      "6. withCallingHandlers({\n",
      " .     rpr <- mime2repr[[mime]](obj)\n",
      " .     if (is.null(rpr)) \n",
      " .         return(NULL)\n",
      " .     prepare_content(is.raw(rpr), rpr)\n",
      " . }, error = error_handler)\n",
      "7. mime2repr[[mime]](obj)\n",
      "8. repr_latex.numeric(obj)\n",
      "9. repr_vector_generic(latex_escape_names(obj), \"\\\\item %s\\n\", \"\\\\item[%s] %s\\n\", \n",
      " .     \"\\\\textbf{%s:} %s\", enum_wrap = \"\\\\begin{enumerate*}\\n%s\\\\end{enumerate*}\\n\", \n",
      " .     named_wrap = \"\\\\begin{description*}\\n%s\\\\end{description*}\\n\", \n",
      " .     only_named_item = \"\\\\textbf{%s:} %s\", escape_fun = latex_escape)\n",
      "10. latex_escape_names(obj)\n",
      "11. .escape_names(obj, \"latex\")\n",
      "12. colnames(obj)\n"
     ]
    },
    {
     "data": {
      "text/html": [
       "<dl class=dl-horizontal>\n",
       "\t<dt>(28,40]</dt>\n",
       "\t\t<dd>42.7727272727273</dd>\n",
       "\t<dt>(40,52]</dt>\n",
       "\t\t<dd>49.9784946236559</dd>\n",
       "\t<dt>(52,64]</dt>\n",
       "\t\t<dd>56.5636363636364</dd>\n",
       "\t<dt>(64,76]</dt>\n",
       "\t\t<dd>61.8333333333333</dd>\n",
       "</dl>\n"
      ],
      "text/plain": [
       " (28,40]  (40,52]  (52,64]  (64,76] \n",
       "42.77273 49.97849 56.56364 61.83333 "
      ]
     },
     "metadata": {},
     "output_type": "display_data"
    }
   ],
   "source": [
    "tapply(hsb2$write, hsb2$readcat, mean)"
   ]
  },
  {
   "cell_type": "code",
   "execution_count": 20,
   "metadata": {},
   "outputs": [
    {
     "data": {
      "text/html": [
       "<table>\n",
       "<thead><tr><th scope=col>.L</th><th scope=col>.Q</th><th scope=col>.C</th></tr></thead>\n",
       "<tbody>\n",
       "\t<tr><td>-0.6708204</td><td> 0.5      </td><td>-0.2236068</td></tr>\n",
       "\t<tr><td>-0.2236068</td><td>-0.5      </td><td> 0.6708204</td></tr>\n",
       "\t<tr><td> 0.2236068</td><td>-0.5      </td><td>-0.6708204</td></tr>\n",
       "\t<tr><td> 0.6708204</td><td> 0.5      </td><td> 0.2236068</td></tr>\n",
       "</tbody>\n",
       "</table>\n"
      ],
      "text/latex": [
       "\\begin{tabular}{lll}\n",
       " .L & .Q & .C\\\\\n",
       "\\hline\n",
       "\t -0.6708204 &  0.5       & -0.2236068\\\\\n",
       "\t -0.2236068 & -0.5       &  0.6708204\\\\\n",
       "\t  0.2236068 & -0.5       & -0.6708204\\\\\n",
       "\t  0.6708204 &  0.5       &  0.2236068\\\\\n",
       "\\end{tabular}\n"
      ],
      "text/markdown": [
       "\n",
       ".L | .Q | .C | \n",
       "|---|---|---|---|\n",
       "| -0.6708204 |  0.5       | -0.2236068 | \n",
       "| -0.2236068 | -0.5       |  0.6708204 | \n",
       "|  0.2236068 | -0.5       | -0.6708204 | \n",
       "|  0.6708204 |  0.5       |  0.2236068 | \n",
       "\n",
       "\n"
      ],
      "text/plain": [
       "     .L         .Q   .C        \n",
       "[1,] -0.6708204  0.5 -0.2236068\n",
       "[2,] -0.2236068 -0.5  0.6708204\n",
       "[3,]  0.2236068 -0.5 -0.6708204\n",
       "[4,]  0.6708204  0.5  0.2236068"
      ]
     },
     "metadata": {},
     "output_type": "display_data"
    }
   ],
   "source": [
    "#the contrast matrix for categorical variable with four levels\n",
    "contr.poly(4)"
   ]
  },
  {
   "cell_type": "code",
   "execution_count": 21,
   "metadata": {},
   "outputs": [
    {
     "data": {
      "text/plain": [
       "\n",
       "Call:\n",
       "lm(formula = write ~ readcat, data = hsb2)\n",
       "\n",
       "Residuals:\n",
       "    Min      1Q  Median      3Q     Max \n",
       "-18.979  -5.824   1.227   5.436  17.021 \n",
       "\n",
       "Coefficients:\n",
       "            Estimate Std. Error t value Pr(>|t|)    \n",
       "(Intercept)  52.7870     0.6339  83.268   <2e-16 ***\n",
       "readcat.L    14.2587     1.4841   9.607   <2e-16 ***\n",
       "readcat.Q    -0.9680     1.2679  -0.764    0.446    \n",
       "readcat.C    -0.1554     1.0062  -0.154    0.877    \n",
       "---\n",
       "Signif. codes:  0 ‘***’ 0.001 ‘**’ 0.01 ‘*’ 0.05 ‘.’ 0.1 ‘ ’ 1\n",
       "\n",
       "Residual standard error: 7.726 on 196 degrees of freedom\n",
       "Multiple R-squared:  0.3456,\tAdjusted R-squared:  0.3356 \n",
       "F-statistic: 34.51 on 3 and 196 DF,  p-value: < 2.2e-16\n"
      ]
     },
     "metadata": {},
     "output_type": "display_data"
    }
   ],
   "source": [
    "#assigning the orthogonal polynomial contrasts to readcat\n",
    "contrasts(hsb2$readcat) = contr.poly(4)\n",
    "summary(lm(write ~ readcat, hsb2))"
   ]
  },
  {
   "cell_type": "markdown",
   "metadata": {},
   "source": [
    "The regression results indicate a strong linear effect of readcat on the outcome variable write. There is not a significant quadratic effect nor a cubic effect of readcat on the outcome variable write."
   ]
  }
 ],
 "metadata": {
  "kernelspec": {
   "display_name": "R",
   "language": "R",
   "name": "ir"
  },
  "language_info": {
   "codemirror_mode": "r",
   "file_extension": ".r",
   "mimetype": "text/x-r-source",
   "name": "R",
   "pygments_lexer": "r",
   "version": "3.4.3"
  }
 },
 "nbformat": 4,
 "nbformat_minor": 2
}
